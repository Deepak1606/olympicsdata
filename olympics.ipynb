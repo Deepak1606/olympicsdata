{
 "cells": [
  {
   "cell_type": "code",
   "execution_count": 1,
   "id": "caddebdb",
   "metadata": {},
   "outputs": [
    {
     "data": {
      "text/html": [
       "<div>\n",
       "<style scoped>\n",
       "    .dataframe tbody tr th:only-of-type {\n",
       "        vertical-align: middle;\n",
       "    }\n",
       "\n",
       "    .dataframe tbody tr th {\n",
       "        vertical-align: top;\n",
       "    }\n",
       "\n",
       "    .dataframe thead th {\n",
       "        text-align: right;\n",
       "    }\n",
       "</style>\n",
       "<table border=\"1\" class=\"dataframe\">\n",
       "  <thead>\n",
       "    <tr style=\"text-align: right;\">\n",
       "      <th></th>\n",
       "      <th>Year</th>\n",
       "      <th>City</th>\n",
       "      <th>Sport</th>\n",
       "      <th>Discipline</th>\n",
       "      <th>Athlete</th>\n",
       "      <th>Country</th>\n",
       "      <th>Gender</th>\n",
       "      <th>Event</th>\n",
       "      <th>Medal</th>\n",
       "    </tr>\n",
       "  </thead>\n",
       "  <tbody>\n",
       "    <tr>\n",
       "      <th>0</th>\n",
       "      <td>1896</td>\n",
       "      <td>Athens</td>\n",
       "      <td>Aquatics</td>\n",
       "      <td>Swimming</td>\n",
       "      <td>HAJOS, Alfred</td>\n",
       "      <td>HUN</td>\n",
       "      <td>Men</td>\n",
       "      <td>100M Freestyle</td>\n",
       "      <td>Gold</td>\n",
       "    </tr>\n",
       "    <tr>\n",
       "      <th>1</th>\n",
       "      <td>1896</td>\n",
       "      <td>Athens</td>\n",
       "      <td>Aquatics</td>\n",
       "      <td>Swimming</td>\n",
       "      <td>HERSCHMANN, Otto</td>\n",
       "      <td>AUT</td>\n",
       "      <td>Men</td>\n",
       "      <td>100M Freestyle</td>\n",
       "      <td>Silver</td>\n",
       "    </tr>\n",
       "    <tr>\n",
       "      <th>2</th>\n",
       "      <td>1896</td>\n",
       "      <td>Athens</td>\n",
       "      <td>Aquatics</td>\n",
       "      <td>Swimming</td>\n",
       "      <td>DRIVAS, Dimitrios</td>\n",
       "      <td>GRE</td>\n",
       "      <td>Men</td>\n",
       "      <td>100M Freestyle For Sailors</td>\n",
       "      <td>Bronze</td>\n",
       "    </tr>\n",
       "    <tr>\n",
       "      <th>3</th>\n",
       "      <td>1896</td>\n",
       "      <td>Athens</td>\n",
       "      <td>Aquatics</td>\n",
       "      <td>Swimming</td>\n",
       "      <td>MALOKINIS, Ioannis</td>\n",
       "      <td>GRE</td>\n",
       "      <td>Men</td>\n",
       "      <td>100M Freestyle For Sailors</td>\n",
       "      <td>Gold</td>\n",
       "    </tr>\n",
       "    <tr>\n",
       "      <th>4</th>\n",
       "      <td>1896</td>\n",
       "      <td>Athens</td>\n",
       "      <td>Aquatics</td>\n",
       "      <td>Swimming</td>\n",
       "      <td>CHASAPIS, Spiridon</td>\n",
       "      <td>GRE</td>\n",
       "      <td>Men</td>\n",
       "      <td>100M Freestyle For Sailors</td>\n",
       "      <td>Silver</td>\n",
       "    </tr>\n",
       "    <tr>\n",
       "      <th>...</th>\n",
       "      <td>...</td>\n",
       "      <td>...</td>\n",
       "      <td>...</td>\n",
       "      <td>...</td>\n",
       "      <td>...</td>\n",
       "      <td>...</td>\n",
       "      <td>...</td>\n",
       "      <td>...</td>\n",
       "      <td>...</td>\n",
       "    </tr>\n",
       "    <tr>\n",
       "      <th>31160</th>\n",
       "      <td>2012</td>\n",
       "      <td>London</td>\n",
       "      <td>Wrestling</td>\n",
       "      <td>Wrestling Freestyle</td>\n",
       "      <td>JANIKOWSKI, Damian</td>\n",
       "      <td>POL</td>\n",
       "      <td>Men</td>\n",
       "      <td>Wg 84 KG</td>\n",
       "      <td>Bronze</td>\n",
       "    </tr>\n",
       "    <tr>\n",
       "      <th>31161</th>\n",
       "      <td>2012</td>\n",
       "      <td>London</td>\n",
       "      <td>Wrestling</td>\n",
       "      <td>Wrestling Freestyle</td>\n",
       "      <td>REZAEI, Ghasem Gholamreza</td>\n",
       "      <td>IRI</td>\n",
       "      <td>Men</td>\n",
       "      <td>Wg 96 KG</td>\n",
       "      <td>Gold</td>\n",
       "    </tr>\n",
       "    <tr>\n",
       "      <th>31162</th>\n",
       "      <td>2012</td>\n",
       "      <td>London</td>\n",
       "      <td>Wrestling</td>\n",
       "      <td>Wrestling Freestyle</td>\n",
       "      <td>TOTROV, Rustam</td>\n",
       "      <td>RUS</td>\n",
       "      <td>Men</td>\n",
       "      <td>Wg 96 KG</td>\n",
       "      <td>Silver</td>\n",
       "    </tr>\n",
       "    <tr>\n",
       "      <th>31163</th>\n",
       "      <td>2012</td>\n",
       "      <td>London</td>\n",
       "      <td>Wrestling</td>\n",
       "      <td>Wrestling Freestyle</td>\n",
       "      <td>ALEKSANYAN, Artur</td>\n",
       "      <td>ARM</td>\n",
       "      <td>Men</td>\n",
       "      <td>Wg 96 KG</td>\n",
       "      <td>Bronze</td>\n",
       "    </tr>\n",
       "    <tr>\n",
       "      <th>31164</th>\n",
       "      <td>2012</td>\n",
       "      <td>London</td>\n",
       "      <td>Wrestling</td>\n",
       "      <td>Wrestling Freestyle</td>\n",
       "      <td>LIDBERG, Jimmy</td>\n",
       "      <td>SWE</td>\n",
       "      <td>Men</td>\n",
       "      <td>Wg 96 KG</td>\n",
       "      <td>Bronze</td>\n",
       "    </tr>\n",
       "  </tbody>\n",
       "</table>\n",
       "<p>31165 rows × 9 columns</p>\n",
       "</div>"
      ],
      "text/plain": [
       "       Year    City      Sport           Discipline  \\\n",
       "0      1896  Athens   Aquatics             Swimming   \n",
       "1      1896  Athens   Aquatics             Swimming   \n",
       "2      1896  Athens   Aquatics             Swimming   \n",
       "3      1896  Athens   Aquatics             Swimming   \n",
       "4      1896  Athens   Aquatics             Swimming   \n",
       "...     ...     ...        ...                  ...   \n",
       "31160  2012  London  Wrestling  Wrestling Freestyle   \n",
       "31161  2012  London  Wrestling  Wrestling Freestyle   \n",
       "31162  2012  London  Wrestling  Wrestling Freestyle   \n",
       "31163  2012  London  Wrestling  Wrestling Freestyle   \n",
       "31164  2012  London  Wrestling  Wrestling Freestyle   \n",
       "\n",
       "                         Athlete Country Gender                       Event  \\\n",
       "0                  HAJOS, Alfred     HUN    Men              100M Freestyle   \n",
       "1               HERSCHMANN, Otto     AUT    Men              100M Freestyle   \n",
       "2              DRIVAS, Dimitrios     GRE    Men  100M Freestyle For Sailors   \n",
       "3             MALOKINIS, Ioannis     GRE    Men  100M Freestyle For Sailors   \n",
       "4             CHASAPIS, Spiridon     GRE    Men  100M Freestyle For Sailors   \n",
       "...                          ...     ...    ...                         ...   \n",
       "31160         JANIKOWSKI, Damian     POL    Men                    Wg 84 KG   \n",
       "31161  REZAEI, Ghasem Gholamreza     IRI    Men                    Wg 96 KG   \n",
       "31162             TOTROV, Rustam     RUS    Men                    Wg 96 KG   \n",
       "31163          ALEKSANYAN, Artur     ARM    Men                    Wg 96 KG   \n",
       "31164             LIDBERG, Jimmy     SWE    Men                    Wg 96 KG   \n",
       "\n",
       "        Medal  \n",
       "0        Gold  \n",
       "1      Silver  \n",
       "2      Bronze  \n",
       "3        Gold  \n",
       "4      Silver  \n",
       "...       ...  \n",
       "31160  Bronze  \n",
       "31161    Gold  \n",
       "31162  Silver  \n",
       "31163  Bronze  \n",
       "31164  Bronze  \n",
       "\n",
       "[31165 rows x 9 columns]"
      ]
     },
     "execution_count": 1,
     "metadata": {},
     "output_type": "execute_result"
    }
   ],
   "source": [
    "import pandas as pd\n",
    "import numpy as np\n",
    "import matplotlib.pyplot as plt\n",
    "\n",
    "df = pd.read_csv(\"summer.csv\")\n",
    "df"
   ]
  },
  {
   "cell_type": "markdown",
   "id": "b5739010",
   "metadata": {},
   "source": [
    "# 1. In how many cities Summer Olympics is held so far?"
   ]
  },
  {
   "cell_type": "code",
   "execution_count": 2,
   "id": "82523a2c",
   "metadata": {},
   "outputs": [
    {
     "name": "stdout",
     "output_type": "stream",
     "text": [
      "Number of cities hosted summer olympics are 22\n"
     ]
    },
    {
     "data": {
      "text/plain": [
       "['Athens',\n",
       " 'Paris',\n",
       " 'St Louis',\n",
       " 'London',\n",
       " 'Stockholm',\n",
       " 'Antwerp',\n",
       " 'Amsterdam',\n",
       " 'Los Angeles',\n",
       " 'Berlin',\n",
       " 'Helsinki',\n",
       " 'Melbourne / Stockholm',\n",
       " 'Rome',\n",
       " 'Tokyo',\n",
       " 'Mexico',\n",
       " 'Munich',\n",
       " 'Montreal',\n",
       " 'Moscow',\n",
       " 'Seoul',\n",
       " 'Barcelona',\n",
       " 'Atlanta',\n",
       " 'Sydney',\n",
       " 'Beijing']"
      ]
     },
     "execution_count": 2,
     "metadata": {},
     "output_type": "execute_result"
    }
   ],
   "source": [
    "data=[]\n",
    "for city in df['City'].unique():\n",
    "    data.append(city)\n",
    "print(\"Number of cities hosted summer olympics are\",len(data))\n",
    "data"
   ]
  },
  {
   "cell_type": "markdown",
   "id": "6514997e",
   "metadata": {},
   "source": [
    "# 2.Which sport is having most number of Gold Medals so far? (Top 5)"
   ]
  },
  {
   "cell_type": "markdown",
   "id": "a5d954cb",
   "metadata": {},
   "source": [
    "## I have used medals in a team sport as a single medal not counted every players of the winning team"
   ]
  },
  {
   "cell_type": "code",
   "execution_count": 3,
   "id": "75a45931",
   "metadata": {},
   "outputs": [
    {
     "data": {
      "text/plain": [
       "Sport\n",
       "Athletics     931\n",
       "Aquatics      681\n",
       "Wrestling     369\n",
       "Gymnastics    335\n",
       "Shooting      258\n",
       "Name: Medal, dtype: int64"
      ]
     },
     "execution_count": 3,
     "metadata": {},
     "output_type": "execute_result"
    },
    {
     "data": {
      "image/png": "[encoded data removed]",
      "text/plain": [
       "<Figure size 432x288 with 1 Axes>"
      ]
     },
     "metadata": {
      "needs_background": "light"
     },
     "output_type": "display_data"
    }
   ],
   "source": [
    "m = df.loc[(df['Medal']=='Gold')]\n",
    "axc = df[['Event', 'Year','Medal','Gender','Sport','Country']].drop_duplicates()\n",
    "xza =axc[axc['Medal']=='Gold']\n",
    "r = xza.groupby('Sport').count()['Medal'].sort_values(ascending=False).head()\n",
    "r.plot(kind='bar')\n",
    "r"
   ]
  },
  {
   "cell_type": "markdown",
   "id": "633f683e",
   "metadata": {},
   "source": [
    "# 3. Which sport is having most number of medals so far? (Top 5)"
   ]
  },
  {
   "cell_type": "markdown",
   "id": "b73e614d",
   "metadata": {},
   "source": [
    "## I have used medals in a team sport as a single medal not counted every players of the winning team"
   ]
  },
  {
   "cell_type": "code",
   "execution_count": 4,
   "id": "bd6aa46d",
   "metadata": {},
   "outputs": [
    {
     "data": {
      "text/plain": [
       "Sport\n",
       "Athletics     2800\n",
       "Aquatics      2042\n",
       "Wrestling     1167\n",
       "Gymnastics     973\n",
       "Boxing         893\n",
       "Name: Medal, dtype: int64"
      ]
     },
     "execution_count": 4,
     "metadata": {},
     "output_type": "execute_result"
    },
    {
     "data": {
      "image/png": "[encoded data removed]",
      "text/plain": [
       "<Figure size 432x288 with 1 Axes>"
      ]
     },
     "metadata": {
      "needs_background": "light"
     },
     "output_type": "display_data"
    }
   ],
   "source": [
    "s = axc.groupby('Sport').count()['Medal'].sort_values(ascending=False).head()\n",
    "s.plot(kind='bar')\n",
    "s\n"
   ]
  },
  {
   "cell_type": "markdown",
   "id": "97f872c3",
   "metadata": {},
   "source": [
    "# 4. Which player has won most number of medals? (Top 5)"
   ]
  },
  {
   "cell_type": "code",
   "execution_count": 5,
   "id": "284ab925",
   "metadata": {},
   "outputs": [
    {
     "data": {
      "text/plain": [
       "Athlete\n",
       "PHELPS, Michael         22\n",
       "LATYNINA, Larisa        18\n",
       "ANDRIANOV, Nikolay      15\n",
       "MANGIAROTTI, Edoardo    13\n",
       "ONO, Takashi            13\n",
       "Name: Medal, dtype: int64"
      ]
     },
     "execution_count": 5,
     "metadata": {},
     "output_type": "execute_result"
    },
    {
     "data": {
      "image/png": "[encoded data removed]",
      "text/plain": [
       "<Figure size 432x288 with 1 Axes>"
      ]
     },
     "metadata": {
      "needs_background": "light"
     },
     "output_type": "display_data"
    }
   ],
   "source": [
    "at = df.groupby('Athlete').count()['Medal'].sort_values(ascending=False).head()\n",
    "at.plot(kind='bar')\n",
    "at"
   ]
  },
  {
   "cell_type": "markdown",
   "id": "f18f0bd7",
   "metadata": {},
   "source": [
    "# 5.Which player has won most number of Gold Medals? (Top 5)"
   ]
  },
  {
   "cell_type": "code",
   "execution_count": 6,
   "id": "166adde4",
   "metadata": {},
   "outputs": [
    {
     "data": {
      "text/plain": [
       "Athlete\n",
       "PHELPS, Michael     18\n",
       "LEWIS, Carl          9\n",
       "NURMI, Paavo         9\n",
       "SPITZ, Mark          9\n",
       "LATYNINA, Larisa     9\n",
       "Name: Medal, dtype: int64"
      ]
     },
     "execution_count": 6,
     "metadata": {},
     "output_type": "execute_result"
    },
    {
     "data": {
      "image/png": "[encoded data removed]",
      "text/plain": [
       "<Figure size 432x288 with 1 Axes>"
      ]
     },
     "metadata": {
      "needs_background": "light"
     },
     "output_type": "display_data"
    }
   ],
   "source": [
    "atg = m.groupby('Athlete').count()['Medal'].sort_values(ascending=False).head()\n",
    "atg.plot(kind='bar')\n",
    "atg"
   ]
  },
  {
   "cell_type": "markdown",
   "id": "a2aac928",
   "metadata": {},
   "source": [
    "# 6.In which year India won first Gold Medal in Summer Olympics?"
   ]
  },
  {
   "cell_type": "code",
   "execution_count": 7,
   "id": "6308c71d",
   "metadata": {},
   "outputs": [
    {
     "data": {
      "text/plain": [
       "1928"
      ]
     },
     "execution_count": 7,
     "metadata": {},
     "output_type": "execute_result"
    }
   ],
   "source": [
    "dat=[]\n",
    "k = df[(df['Country']=='IND') & (df['Medal']=='Gold')].drop_duplicates()\n",
    "for i in k['Year'].unique():\n",
    "    dat.append(i)\n",
    "dat[0]"
   ]
  },
  {
   "cell_type": "markdown",
   "id": "8a7a4f14",
   "metadata": {},
   "source": [
    "# 7. Which event is most popular in terms on number of players? (Top 5)"
   ]
  },
  {
   "cell_type": "code",
   "execution_count": 9,
   "id": "3e2b0eeb",
   "metadata": {
    "scrolled": true
   },
   "outputs": [
    {
     "data": {
      "text/plain": [
       "Event\n",
       "Football            1497\n",
       "Hockey              1422\n",
       "Team Competition    1147\n",
       "Basketball          1012\n",
       "Handball             973\n",
       "Name: Athlete, dtype: int64"
      ]
     },
     "execution_count": 9,
     "metadata": {},
     "output_type": "execute_result"
    },
    {
     "data": {
      "image/png": "[encoded data removed]",
      "text/plain": [
       "<Figure size 432x288 with 1 Axes>"
      ]
     },
     "metadata": {
      "needs_background": "light"
     },
     "output_type": "display_data"
    }
   ],
   "source": [
    "pe = df.groupby('Event').count()['Athlete'].sort_values(ascending=False).head()\n",
    "pe.plot(kind='bar')\n",
    "pe"
   ]
  },
  {
   "cell_type": "markdown",
   "id": "494f79cd",
   "metadata": {},
   "source": [
    "# 8. Which sport is having most female Gold Medalists? (Top 5)"
   ]
  },
  {
   "cell_type": "code",
   "execution_count": 10,
   "id": "f413a584",
   "metadata": {},
   "outputs": [
    {
     "data": {
      "text/plain": [
       "Sport\n",
       "Aquatics      589\n",
       "Athletics     389\n",
       "Gymnastics    268\n",
       "Rowing        217\n",
       "Volleyball    166\n",
       "Name: Medal, dtype: int64"
      ]
     },
     "execution_count": 10,
     "metadata": {},
     "output_type": "execute_result"
    },
    {
     "data": {
      "image/png": "[encoded data removed]",
      "text/plain": [
       "<Figure size 432x288 with 1 Axes>"
      ]
     },
     "metadata": {
      "needs_background": "light"
     },
     "output_type": "display_data"
    }
   ],
   "source": [
    "w = m.loc[m['Gender']=='Women']\n",
    "w = w.groupby('Sport').count()['Medal'].sort_values( ascending=False).head()\n",
    "w.plot(kind='bar')\n",
    "w"
   ]
  },
  {
   "cell_type": "code",
   "execution_count": null,
   "id": "4ba90801",
   "metadata": {},
   "outputs": [],
   "source": []
  },
  {
   "cell_type": "code",
   "execution_count": null,
   "id": "c4ab745c",
   "metadata": {},
   "outputs": [],
   "source": []
  },
  {
   "cell_type": "code",
   "execution_count": null,
   "id": "31861373",
   "metadata": {},
   "outputs": [],
   "source": []
  }
 ],
 "metadata": {
  "kernelspec": {
   "display_name": "Python 3",
   "language": "python",
   "name": "python3"
  },
  "language_info": {
   "codemirror_mode": {
    "name": "ipython",
    "version": 3
   },
   "file_extension": ".py",
   "mimetype": "text/x-python",
   "name": "python",
   "nbconvert_exporter": "python",
   "pygments_lexer": "ipython3",
   "version": "3.8.8"
  }
 },
 "nbformat": 4,
 "nbformat_minor": 5
}
